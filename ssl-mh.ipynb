{
 "cells": [
  {
   "cell_type": "code",
   "execution_count": null,
   "metadata": {},
   "outputs": [],
   "source": [
    "import matplotlib.pyplot as plt\n",
    "import pandas as pd\n",
    "import numpy as np\n",
    "import scipy as sp\n",
    "import tensorflow as tf\n",
    "import tensorflow_probability as tfp"
   ]
  },
  {
   "cell_type": "code",
   "execution_count": null,
   "metadata": {},
   "outputs": [],
   "source": [
    "sigma1 = 1\n",
    "sigma2 = 0.1\n",
    "sigmay = 1\n",
    "niter = 100\n",
    "gamma = 0.1\n",
    "rho = 1"
   ]
  },
  {
   "cell_type": "code",
   "execution_count": null,
   "metadata": {},
   "outputs": [],
   "source": [
    "p = len(X[1])\n",
    "n = len(X)\n",
    "b = p + n\n",
    "theta = np.array([np.zeros(p)]).T                                   #initialising theta as zero vectors\n",
    "Atz, z = np.array([np.empty((p,1))]*b), np.empty([0,0])             #initialising numpy array to store A^t * z and z\n",
    "for i in range(b):                                                  #generating A and A^t * A and storing them into numpy array\n",
    "    if i <= p-1:\n",
    "        e = np.array([np.zeros(p)])\n",
    "        e[0][i] = 1\n",
    "        A = e * 1/sigma2\n",
    "        if i == 0:\n",
    "            Alist = A\n",
    "            AtA = np.array([np.matmul(A.T, A)])\n",
    "        else:\n",
    "            Alist = np.vstack((Alist, A))\n",
    "            AtA = np.vstack((AtA, np.array([np.matmul(A.T, A)])))\n",
    "    else:\n",
    "        X_t = X[i-p].reshape(1, p)\n",
    "        A = X_t / sigmay\n",
    "        Alist = np.vstack((Alist, A))\n",
    "        AtA = np.vstack((AtA, np.array([np.matmul(A.T, A)])))\n",
    "\n",
    "for t in range(niter):                                              #Beginning of Split Gibbs Sampling\n",
    "    # print(\"Start of %sth iteration\" % str(t))\n",
    "    for i in range(b):\n",
    "        if i <= p-1:\n",
    "            sigsig = sigma2 / sigma1\n",
    "            w1 = gamma * sigsig / ((gamma * sigsig) + ((1-gamma) * np.exp(-(1-sigsig**2) * (np.linalg.norm(np.matmul(Alist[i], theta)))**2/2)))\n",
    "            w2 = 1 - w1\n",
    "            U = np.random.uniform()\n",
    "            if U > w1:\n",
    "                mu = (1 - sigsig**2) * np.matmul(Alist[i], theta)\n",
    "                sigmaz = 1 - sigsig**2\n",
    "                z = np.append(z, np.random.normal(mu, sigmaz))\n",
    "            else:\n",
    "                z = np.append(z, 0)\n",
    "            Atz[i] = np.reshape(Alist[i] * z[i],(-1,1))\n",
    "        else:\n",
    "            z = np.append(z, y[i-p] / sigmay)\n",
    "            Atz[i] = np.reshape(Alist[i] * z[i],(-1,1))\n",
    "        \n",
    "    # print(sum(AtA))\n",
    "    print(\"End of sampling z values\")\n",
    "    sumAAtinv = np.linalg.inv(sum(AtA))\n",
    "    mu_theta = np.matmul(sumAAtinv, sum(Atz))\n",
    "    print(mu_theta.shape)\n",
    "    sigma_theta = np.linalg.inv(sum(AtA)) * rho**2\n",
    "    L = np.linalg.cholesky(sigma_theta)\n",
    "    print(\"Start of sampling theta\")\n",
    "    theta_new = mu_theta + np.matmul(L, np.reshape(np.random.multivariate_normal(np.zeros(p), np.identity(p)), (-1, 1)))\n",
    "    theta = theta_new\n",
    "    # print(theta.shape)\n",
    "    Atz, z = np.array([np.empty((p,1))]*b), np.empty([0,0])\n",
    "    print(\"-------------------------------------------------------\")"
   ]
  }
 ],
 "metadata": {
  "kernelspec": {
   "display_name": "Python 3.9.13 ('py39win64')",
   "language": "python",
   "name": "python3"
  },
  "language_info": {
   "name": "python",
   "version": "3.9.13"
  },
  "orig_nbformat": 4,
  "vscode": {
   "interpreter": {
    "hash": "08ab014b106e404f4ff0a914feb7f5254ccf3596668d356204f942996a830d93"
   }
  }
 },
 "nbformat": 4,
 "nbformat_minor": 2
}
