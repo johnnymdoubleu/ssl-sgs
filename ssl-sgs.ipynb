{
 "cells": [
  {
   "cell_type": "code",
   "execution_count": null,
   "metadata": {},
   "outputs": [],
   "source": []
  }
 ],
 "metadata": {
  "kernelspec": {
   "display_name": "Python 3.9.13 ('py39win64')",
   "language": "python",
   "name": "python3"
  },
  "language_info": {
   "name": "python",
   "version": "3.9.13"
  },
  "orig_nbformat": 4,
  "vscode": {
   "interpreter": {
    "hash": "08ab014b106e404f4ff0a914feb7f5254ccf3596668d356204f942996a830d93"
   }
  }
 },
 "nbformat": 4,
 "nbformat_minor": 2
}
