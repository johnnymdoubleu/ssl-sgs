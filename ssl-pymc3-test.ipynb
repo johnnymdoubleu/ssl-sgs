{
 "cells": [
  {
   "cell_type": "code",
   "execution_count": 16,
   "metadata": {},
   "outputs": [],
   "source": [
    "import pymc3 as pm\n",
    "import numba\n",
    "import numpy as np\n",
    "import matplotlib as mat\n",
    "import pandas as pd\n",
    "import theano.tensor as tt\n",
    "from scipy.special import expit \n",
    "\n",
    "invlogit = lambda x: 1/(1 + tt.exp(-x))"
   ]
  },
  {
   "cell_type": "code",
   "execution_count": 2,
   "metadata": {},
   "outputs": [],
   "source": [
    "df = pd.read_csv('../ssl-sgs/train.csv')\n",
    "y = np.asarray(df.target)\n",
    "X = np.array(df.iloc[:, 2:302])"
   ]
  },
  {
   "cell_type": "code",
   "execution_count": 3,
   "metadata": {},
   "outputs": [],
   "source": [
    "df2 = pd.read_csv('../ssl-sgs/test.csv')\n",
    "df2.head()\n",
    "X2 = np.array(df2.iloc[:, 1:301])"
   ]
  },
  {
   "cell_type": "code",
   "execution_count": 4,
   "metadata": {},
   "outputs": [],
   "source": [
    "def get_model(y, X):\n",
    "    model = pm.Model()\n",
    "    with model:\n",
    "        xi = pm.Bernoulli('xi', .05, shape=X.shape[1]) #inclusion probability for each variable\n",
    "        alpha = pm.Normal('alpha', mu = 0, sd = 5) # Intercept\n",
    "        beta = pm.Normal('beta', mu = 0, sd = .75 , shape=X.shape[1]) #Prior for the non-zero coefficients\n",
    "        p = pm.math.dot(X, xi * beta) #Deterministic function to map the stochastics to the output\n",
    "        y_obs = pm.Bernoulli('y_obs', invlogit(p + alpha),  observed=y)  #Data likelihood\n",
    "    return model"
   ]
  },
  {
   "cell_type": "code",
   "execution_count": 5,
   "metadata": {},
   "outputs": [],
   "source": [
    "model1 = get_model(y, X)"
   ]
  },
  {
   "cell_type": "code",
   "execution_count": 6,
   "metadata": {},
   "outputs": [
    {
     "name": "stderr",
     "output_type": "stream",
     "text": [
      "c:\\Users\\Johnny Lee\\anaconda3\\envs\\py39win64\\lib\\site-packages\\deprecat\\classic.py:215: FutureWarning: In v4.0, pm.sample will return an `arviz.InferenceData` object instead of a `MultiTrace` by default. You can pass return_inferencedata=True or return_inferencedata=False to be safe and silence this warning.\n",
      "  return wrapped_(*args_, **kwargs_)\n",
      "c:\\Users\\Johnny Lee\\anaconda3\\envs\\py39win64\\lib\\site-packages\\theano\\tensor\\elemwise.py:826: RuntimeWarning: divide by zero encountered in log\n",
      "  variables = ufunc(*ufunc_args, **ufunc_kwargs)\n",
      "c:\\Users\\Johnny Lee\\anaconda3\\envs\\py39win64\\lib\\site-packages\\theano\\tensor\\elemwise.py:826: RuntimeWarning: invalid value encountered in multiply\n",
      "  variables = ufunc(*ufunc_args, **ufunc_kwargs)\n",
      "Sequential sampling (1 chains in 1 job)\n",
      "CompoundStep\n",
      ">BinaryGibbsMetropolis: [xi]\n",
      ">NUTS: [beta, alpha]\n"
     ]
    },
    {
     "data": {
      "text/html": [
       "\n",
       "<style>\n",
       "    /* Turns off some styling */\n",
       "    progress {\n",
       "        /* gets rid of default border in Firefox and Opera. */\n",
       "        border: none;\n",
       "        /* Needs to be in here for Safari polyfill so background images work as expected. */\n",
       "        background-size: auto;\n",
       "    }\n",
       "    progress:not([value]), progress:not([value])::-webkit-progress-bar {\n",
       "        background: repeating-linear-gradient(45deg, #7e7e7e, #7e7e7e 10px, #5c5c5c 10px, #5c5c5c 20px);\n",
       "    }\n",
       "    .progress-bar-interrupted, .progress-bar-interrupted::-webkit-progress-bar {\n",
       "        background: #F44336;\n",
       "    }\n",
       "</style>\n"
      ],
      "text/plain": [
       "<IPython.core.display.HTML object>"
      ]
     },
     "metadata": {},
     "output_type": "display_data"
    },
    {
     "data": {
      "text/html": [
       "\n",
       "    <div>\n",
       "      <progress value='3000' class='' max='3000' style='width:300px; height:20px; vertical-align: middle;'></progress>\n",
       "      100.00% [3000/3000 2:57:44&lt;00:00 Sampling chain 0, 0 divergences]\n",
       "    </div>\n",
       "    "
      ],
      "text/plain": [
       "<IPython.core.display.HTML object>"
      ]
     },
     "metadata": {},
     "output_type": "display_data"
    },
    {
     "name": "stderr",
     "output_type": "stream",
     "text": [
      "Sampling 1 chain for 1_000 tune and 2_000 draw iterations (1_000 + 2_000 draws total) took 10664 seconds.\n",
      "Only one chain was sampled, this makes it impossible to run some convergence checks\n"
     ]
    }
   ],
   "source": [
    "with model1:\n",
    "    trace = pm.sample(2000, random_seed = 4816, cores = 1, progressbar = True, chains = 1)"
   ]
  },
  {
   "cell_type": "code",
   "execution_count": 13,
   "metadata": {},
   "outputs": [],
   "source": [
    "results = pd.DataFrame({'var': np.arange(300), \n",
    "                        'inclusion_probability':np.apply_along_axis(np.mean, 0, trace['xi']),\n",
    "                       'beta':np.apply_along_axis(np.mean, 0, trace['beta']),\n",
    "                       'beta_given_inclusion': np.apply_along_axis(np.sum, 0, trace['xi']*trace['beta'])\n",
    "                            /np.apply_along_axis(np.sum, 0, trace['xi'])\n",
    "                       })"
   ]
  },
  {
   "cell_type": "code",
   "execution_count": 8,
   "metadata": {},
   "outputs": [
    {
     "data": {
      "text/html": [
       "<div>\n",
       "<style scoped>\n",
       "    .dataframe tbody tr th:only-of-type {\n",
       "        vertical-align: middle;\n",
       "    }\n",
       "\n",
       "    .dataframe tbody tr th {\n",
       "        vertical-align: top;\n",
       "    }\n",
       "\n",
       "    .dataframe thead th {\n",
       "        text-align: right;\n",
       "    }\n",
       "</style>\n",
       "<table border=\"1\" class=\"dataframe\">\n",
       "  <thead>\n",
       "    <tr style=\"text-align: right;\">\n",
       "      <th></th>\n",
       "      <th>var</th>\n",
       "      <th>inclusion_probability</th>\n",
       "      <th>beta</th>\n",
       "      <th>beta_given_inclusion</th>\n",
       "    </tr>\n",
       "  </thead>\n",
       "  <tbody>\n",
       "    <tr>\n",
       "      <th>127</th>\n",
       "      <td>127</td>\n",
       "      <td>1.0000</td>\n",
       "      <td>1.074057</td>\n",
       "      <td>1.074057</td>\n",
       "    </tr>\n",
       "    <tr>\n",
       "      <th>18</th>\n",
       "      <td>18</td>\n",
       "      <td>0.8935</td>\n",
       "      <td>0.649910</td>\n",
       "      <td>0.733500</td>\n",
       "    </tr>\n",
       "    <tr>\n",
       "      <th>176</th>\n",
       "      <td>176</td>\n",
       "      <td>0.8650</td>\n",
       "      <td>-0.624158</td>\n",
       "      <td>-0.713840</td>\n",
       "    </tr>\n",
       "    <tr>\n",
       "      <th>241</th>\n",
       "      <td>241</td>\n",
       "      <td>0.7255</td>\n",
       "      <td>0.512173</td>\n",
       "      <td>0.730294</td>\n",
       "    </tr>\n",
       "    <tr>\n",
       "      <th>16</th>\n",
       "      <td>16</td>\n",
       "      <td>0.6400</td>\n",
       "      <td>-0.421841</td>\n",
       "      <td>-0.643205</td>\n",
       "    </tr>\n",
       "    <tr>\n",
       "      <th>74</th>\n",
       "      <td>74</td>\n",
       "      <td>0.5515</td>\n",
       "      <td>-0.340213</td>\n",
       "      <td>-0.611754</td>\n",
       "    </tr>\n",
       "    <tr>\n",
       "      <th>199</th>\n",
       "      <td>199</td>\n",
       "      <td>0.3960</td>\n",
       "      <td>-0.234576</td>\n",
       "      <td>-0.568144</td>\n",
       "    </tr>\n",
       "    <tr>\n",
       "      <th>66</th>\n",
       "      <td>66</td>\n",
       "      <td>0.3945</td>\n",
       "      <td>0.255440</td>\n",
       "      <td>0.635501</td>\n",
       "    </tr>\n",
       "    <tr>\n",
       "      <th>135</th>\n",
       "      <td>135</td>\n",
       "      <td>0.3915</td>\n",
       "      <td>-0.187125</td>\n",
       "      <td>-0.594662</td>\n",
       "    </tr>\n",
       "    <tr>\n",
       "      <th>136</th>\n",
       "      <td>136</td>\n",
       "      <td>0.2815</td>\n",
       "      <td>-0.160670</td>\n",
       "      <td>-0.556925</td>\n",
       "    </tr>\n",
       "    <tr>\n",
       "      <th>200</th>\n",
       "      <td>200</td>\n",
       "      <td>0.2745</td>\n",
       "      <td>-0.120436</td>\n",
       "      <td>-0.500823</td>\n",
       "    </tr>\n",
       "    <tr>\n",
       "      <th>113</th>\n",
       "      <td>113</td>\n",
       "      <td>0.2620</td>\n",
       "      <td>-0.130531</td>\n",
       "      <td>-0.520746</td>\n",
       "    </tr>\n",
       "    <tr>\n",
       "      <th>177</th>\n",
       "      <td>177</td>\n",
       "      <td>0.2575</td>\n",
       "      <td>-0.150321</td>\n",
       "      <td>-0.512915</td>\n",
       "    </tr>\n",
       "    <tr>\n",
       "      <th>133</th>\n",
       "      <td>133</td>\n",
       "      <td>0.2455</td>\n",
       "      <td>-0.140578</td>\n",
       "      <td>-0.535137</td>\n",
       "    </tr>\n",
       "    <tr>\n",
       "      <th>59</th>\n",
       "      <td>59</td>\n",
       "      <td>0.2425</td>\n",
       "      <td>-0.120764</td>\n",
       "      <td>-0.542765</td>\n",
       "    </tr>\n",
       "    <tr>\n",
       "      <th>107</th>\n",
       "      <td>107</td>\n",
       "      <td>0.1785</td>\n",
       "      <td>0.069439</td>\n",
       "      <td>0.464781</td>\n",
       "    </tr>\n",
       "    <tr>\n",
       "      <th>126</th>\n",
       "      <td>126</td>\n",
       "      <td>0.1735</td>\n",
       "      <td>-0.076115</td>\n",
       "      <td>-0.486347</td>\n",
       "    </tr>\n",
       "    <tr>\n",
       "      <th>93</th>\n",
       "      <td>93</td>\n",
       "      <td>0.1575</td>\n",
       "      <td>0.090870</td>\n",
       "      <td>0.480584</td>\n",
       "    </tr>\n",
       "    <tr>\n",
       "      <th>178</th>\n",
       "      <td>178</td>\n",
       "      <td>0.1565</td>\n",
       "      <td>0.090308</td>\n",
       "      <td>0.480666</td>\n",
       "    </tr>\n",
       "    <tr>\n",
       "      <th>69</th>\n",
       "      <td>69</td>\n",
       "      <td>0.1500</td>\n",
       "      <td>-0.056194</td>\n",
       "      <td>-0.439135</td>\n",
       "    </tr>\n",
       "  </tbody>\n",
       "</table>\n",
       "</div>"
      ],
      "text/plain": [
       "     var  inclusion_probability      beta  beta_given_inclusion\n",
       "127  127                 1.0000  1.074057              1.074057\n",
       "18    18                 0.8935  0.649910              0.733500\n",
       "176  176                 0.8650 -0.624158             -0.713840\n",
       "241  241                 0.7255  0.512173              0.730294\n",
       "16    16                 0.6400 -0.421841             -0.643205\n",
       "74    74                 0.5515 -0.340213             -0.611754\n",
       "199  199                 0.3960 -0.234576             -0.568144\n",
       "66    66                 0.3945  0.255440              0.635501\n",
       "135  135                 0.3915 -0.187125             -0.594662\n",
       "136  136                 0.2815 -0.160670             -0.556925\n",
       "200  200                 0.2745 -0.120436             -0.500823\n",
       "113  113                 0.2620 -0.130531             -0.520746\n",
       "177  177                 0.2575 -0.150321             -0.512915\n",
       "133  133                 0.2455 -0.140578             -0.535137\n",
       "59    59                 0.2425 -0.120764             -0.542765\n",
       "107  107                 0.1785  0.069439              0.464781\n",
       "126  126                 0.1735 -0.076115             -0.486347\n",
       "93    93                 0.1575  0.090870              0.480584\n",
       "178  178                 0.1565  0.090308              0.480666\n",
       "69    69                 0.1500 -0.056194             -0.439135"
      ]
     },
     "execution_count": 8,
     "metadata": {},
     "output_type": "execute_result"
    }
   ],
   "source": [
    "results.sort_values('inclusion_probability', ascending = False).head(20)"
   ]
  },
  {
   "cell_type": "code",
   "execution_count": 9,
   "metadata": {},
   "outputs": [
    {
     "data": {
      "text/plain": [
       "array([0.17482076, 0.22571151, 0.21963124, ..., 0.18084265, 0.18985789,\n",
       "       0.03487203])"
      ]
     },
     "execution_count": 9,
     "metadata": {},
     "output_type": "execute_result"
    }
   ],
   "source": [
    "#Scoring test.  Score new data from a single posterior sample\n",
    "test_beta = trace['beta'][0]\n",
    "test_inc = trace['xi'][0]\n",
    "test_score = expit(trace['alpha'][0] + np.dot(X2, test_inc * test_beta))  \n",
    "test_score"
   ]
  },
  {
   "cell_type": "code",
   "execution_count": 10,
   "metadata": {},
   "outputs": [],
   "source": [
    "estimate = trace['beta'] * trace['xi'] \n",
    "y_hat = np.apply_along_axis(np.mean, 1, expit(trace['alpha'] + np.dot(X2, np.transpose(estimate) )) )"
   ]
  },
  {
   "cell_type": "code",
   "execution_count": 11,
   "metadata": {},
   "outputs": [
    {
     "data": {
      "text/plain": [
       "(0.29178200192454595, 0.05087833333333333)"
      ]
     },
     "execution_count": 11,
     "metadata": {},
     "output_type": "execute_result"
    }
   ],
   "source": [
    "#Sanity checks\n",
    "np.mean(y_hat), np.sum(results.inclusion_probability/300)"
   ]
  },
  {
   "cell_type": "code",
   "execution_count": 14,
   "metadata": {},
   "outputs": [
    {
     "data": {
      "text/html": [
       "<div>\n",
       "<style scoped>\n",
       "    .dataframe tbody tr th:only-of-type {\n",
       "        vertical-align: middle;\n",
       "    }\n",
       "\n",
       "    .dataframe tbody tr th {\n",
       "        vertical-align: top;\n",
       "    }\n",
       "\n",
       "    .dataframe thead th {\n",
       "        text-align: right;\n",
       "    }\n",
       "</style>\n",
       "<table border=\"1\" class=\"dataframe\">\n",
       "  <thead>\n",
       "    <tr style=\"text-align: right;\">\n",
       "      <th></th>\n",
       "      <th>id</th>\n",
       "      <th>target</th>\n",
       "    </tr>\n",
       "  </thead>\n",
       "  <tbody>\n",
       "    <tr>\n",
       "      <th>0</th>\n",
       "      <td>250</td>\n",
       "      <td>0.482081</td>\n",
       "    </tr>\n",
       "    <tr>\n",
       "      <th>1</th>\n",
       "      <td>251</td>\n",
       "      <td>0.223246</td>\n",
       "    </tr>\n",
       "    <tr>\n",
       "      <th>2</th>\n",
       "      <td>252</td>\n",
       "      <td>0.317099</td>\n",
       "    </tr>\n",
       "    <tr>\n",
       "      <th>3</th>\n",
       "      <td>253</td>\n",
       "      <td>0.604170</td>\n",
       "    </tr>\n",
       "    <tr>\n",
       "      <th>4</th>\n",
       "      <td>254</td>\n",
       "      <td>0.568997</td>\n",
       "    </tr>\n",
       "    <tr>\n",
       "      <th>...</th>\n",
       "      <td>...</td>\n",
       "      <td>...</td>\n",
       "    </tr>\n",
       "    <tr>\n",
       "      <th>19745</th>\n",
       "      <td>19995</td>\n",
       "      <td>0.192739</td>\n",
       "    </tr>\n",
       "    <tr>\n",
       "      <th>19746</th>\n",
       "      <td>19996</td>\n",
       "      <td>0.700733</td>\n",
       "    </tr>\n",
       "    <tr>\n",
       "      <th>19747</th>\n",
       "      <td>19997</td>\n",
       "      <td>0.313685</td>\n",
       "    </tr>\n",
       "    <tr>\n",
       "      <th>19748</th>\n",
       "      <td>19998</td>\n",
       "      <td>0.252241</td>\n",
       "    </tr>\n",
       "    <tr>\n",
       "      <th>19749</th>\n",
       "      <td>19999</td>\n",
       "      <td>0.177310</td>\n",
       "    </tr>\n",
       "  </tbody>\n",
       "</table>\n",
       "<p>19750 rows × 2 columns</p>\n",
       "</div>"
      ],
      "text/plain": [
       "          id    target\n",
       "0        250  0.482081\n",
       "1        251  0.223246\n",
       "2        252  0.317099\n",
       "3        253  0.604170\n",
       "4        254  0.568997\n",
       "...      ...       ...\n",
       "19745  19995  0.192739\n",
       "19746  19996  0.700733\n",
       "19747  19997  0.313685\n",
       "19748  19998  0.252241\n",
       "19749  19999  0.177310\n",
       "\n",
       "[19750 rows x 2 columns]"
      ]
     },
     "execution_count": 14,
     "metadata": {},
     "output_type": "execute_result"
    }
   ],
   "source": [
    "submission  = pd.DataFrame({'id':df2.id, 'target':y_hat})\n",
    "# submission.to_csv('submission.csv', index = False)\n",
    "submission"
   ]
  }
 ],
 "metadata": {
  "kernelspec": {
   "display_name": "Python 3.9.13 ('py39win64')",
   "language": "python",
   "name": "python3"
  },
  "language_info": {
   "codemirror_mode": {
    "name": "ipython",
    "version": 3
   },
   "file_extension": ".py",
   "mimetype": "text/x-python",
   "name": "python",
   "nbconvert_exporter": "python",
   "pygments_lexer": "ipython3",
   "version": "3.9.13"
  },
  "orig_nbformat": 4,
  "vscode": {
   "interpreter": {
    "hash": "08ab014b106e404f4ff0a914feb7f5254ccf3596668d356204f942996a830d93"
   }
  }
 },
 "nbformat": 4,
 "nbformat_minor": 2
}
